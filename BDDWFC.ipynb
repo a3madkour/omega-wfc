{
 "cells": [
  {
   "cell_type": "markdown",
   "metadata": {
    "id": "2opB-OV3DUjn"
   },
   "source": [
    "In this notebook, we try to implement a version of WFC that uses BDDs."
   ]
  },
  {
   "cell_type": "code",
   "execution_count": null,
   "metadata": {
    "colab": {
     "base_uri": "https://localhost:8080/"
    },
    "id": "ydh0sOKdDkxo",
    "outputId": "34410cb5-567b-4aa3-c391-428e53e32597"
   },
   "outputs": [
    {
     "name": "stdout",
     "output_type": "stream",
     "text": [
      "Requirement already satisfied: omega in /usr/local/lib/python3.10/dist-packages (0.3.1)\n",
      "Requirement already satisfied: astutils>=0.0.3 in /usr/local/lib/python3.10/dist-packages (from omega) (0.0.5)\n",
      "Requirement already satisfied: dd>=0.5.5 in /usr/local/lib/python3.10/dist-packages (from omega) (0.5.7)\n",
      "Requirement already satisfied: humanize>=0.5.1 in /usr/local/lib/python3.10/dist-packages (from omega) (4.7.0)\n",
      "Requirement already satisfied: natsort>=3.5.3 in /usr/local/lib/python3.10/dist-packages (from omega) (8.4.0)\n",
      "Requirement already satisfied: networkx>=2.0 in /usr/local/lib/python3.10/dist-packages (from omega) (3.2.1)\n",
      "Requirement already satisfied: ply<=3.10,>=3.6 in /usr/local/lib/python3.10/dist-packages (from omega) (3.10)\n",
      "Requirement already satisfied: pydot>=1.2.2 in /usr/local/lib/python3.10/dist-packages (from omega) (1.4.2)\n",
      "Requirement already satisfied: psutil>=3.2.2 in /usr/local/lib/python3.10/dist-packages (from dd>=0.5.5->omega) (5.9.5)\n",
      "Requirement already satisfied: setuptools>=19.6 in /usr/local/lib/python3.10/dist-packages (from dd>=0.5.5->omega) (67.7.2)\n",
      "Requirement already satisfied: pyparsing>=2.1.4 in /usr/local/lib/python3.10/dist-packages (from pydot>=1.2.2->omega) (3.1.1)\n"
     ]
    }
   ],
   "source": [
    "!pip install omega"
   ]
  },
  {
   "cell_type": "code",
   "execution_count": 1,
   "metadata": {
    "colab": {
     "base_uri": "https://localhost:8080/"
    },
    "id": "p5PJCpjTD3WD",
    "outputId": "0418f01f-bd3b-4a47-ce2c-0547632a774c"
   },
   "outputs": [
    {
     "name": "stdout",
     "output_type": "stream",
     "text": [
      "%pylab is deprecated, use %matplotlib inline and import the required libraries.\n",
      "Populating the interactive namespace from numpy and matplotlib\n"
     ]
    },
    {
     "ename": "ModuleNotFoundError",
     "evalue": "No module named 'tqdm'",
     "output_type": "error",
     "traceback": [
      "\u001b[0;31m---------------------------------------------------------------------------\u001b[0m",
      "\u001b[0;31mModuleNotFoundError\u001b[0m                       Traceback (most recent call last)",
      "Cell \u001b[0;32mIn[1], line 2\u001b[0m\n\u001b[1;32m      1\u001b[0m get_ipython()\u001b[38;5;241m.\u001b[39mrun_line_magic(\u001b[38;5;124m'\u001b[39m\u001b[38;5;124mpylab\u001b[39m\u001b[38;5;124m'\u001b[39m, \u001b[38;5;124m'\u001b[39m\u001b[38;5;124minline\u001b[39m\u001b[38;5;124m'\u001b[39m)\n\u001b[0;32m----> 2\u001b[0m \u001b[38;5;28;01mfrom\u001b[39;00m \u001b[38;5;21;01mtqdm\u001b[39;00m\u001b[38;5;21;01m.\u001b[39;00m\u001b[38;5;21;01mnotebook\u001b[39;00m \u001b[38;5;28;01mimport\u001b[39;00m tqdm\n",
      "\u001b[0;31mModuleNotFoundError\u001b[0m: No module named 'tqdm'"
     ]
    }
   ],
   "source": [
    "%pylab inline\n",
    "from tqdm.notebook import tqdm"
   ]
  },
  {
   "cell_type": "markdown",
   "metadata": {
    "id": "qkc26R7uDmiM"
   },
   "source": [
    "We'll start by trying to model the chess domain."
   ]
  },
  {
   "cell_type": "code",
   "execution_count": 2,
   "metadata": {
    "colab": {
     "base_uri": "https://localhost:8080/",
     "height": 435
    },
    "id": "B6Ym2OLZDsG0",
    "outputId": "ba06b833-32ad-4456-ba72-03ee7d6d5877"
   },
   "outputs": [
    {
     "data": {
      "image/png": "[encoded data removed]",
      "text/plain": [
       "<Figure size 640x480 with 1 Axes>"
      ]
     },
     "metadata": {},
     "output_type": "display_data"
    }
   ],
   "source": [
    "chess_grid = array([\n",
    "    [1,0,1,0],\n",
    "    [0,1,0,1],\n",
    "    [1,0,1,0],\n",
    "    [0,1,0,1],\n",
    "])\n",
    "\n",
    "imshow(chess_grid);"
   ]
  },
  {
   "cell_type": "code",
   "execution_count": 3,
   "metadata": {
    "colab": {
     "base_uri": "https://localhost:8080/"
    },
    "id": "y386nY9KD0Vm",
    "outputId": "cc4b31fc-92f2-4cd2-ac7b-66a8d5180eac"
   },
   "outputs": [
    {
     "data": {
      "text/plain": [
       "array([0, 1])"
      ]
     },
     "execution_count": 3,
     "metadata": {},
     "output_type": "execute_result"
    }
   ],
   "source": [
    "unique_tiles = unique(chess_grid.ravel())\n",
    "unique_tiles"
   ]
  },
  {
   "cell_type": "code",
   "execution_count": 4,
   "metadata": {
    "colab": {
     "base_uri": "https://localhost:8080/"
    },
    "id": "w-TcCqvwD10Z",
    "outputId": "76750012-fb2a-4daf-f8e5-7a36eaec9992"
   },
   "outputs": [
    {
     "data": {
      "text/plain": [
       "([[0, 1], [1, 0]], [[0, 1], [1, 0]])"
      ]
     },
     "execution_count": 4,
     "metadata": {},
     "output_type": "execute_result"
    }
   ],
   "source": [
    "v_adj = h_adj = [[0,1],[1,0]]\n",
    "v_adj, h_adj"
   ]
  },
  {
   "cell_type": "markdown",
   "metadata": {
    "id": "r8PSuoJ7ESNz"
   },
   "source": [
    "# Setup the BDD context"
   ]
  },
  {
   "cell_type": "code",
   "execution_count": 5,
   "metadata": {
    "id": "STtnkpzIEdqT"
   },
   "outputs": [],
   "source": [
    "N = 10"
   ]
  },
  {
   "cell_type": "code",
   "execution_count": 6,
   "metadata": {
    "id": "ZrBf741OEWrl"
   },
   "outputs": [
    {
     "name": "stderr",
     "output_type": "stream",
     "text": [
      "`omega.symbolic.symbolic` failed to import `dd.cudd`.\n",
      "Will use `dd.autoref`.\n"
     ]
    }
   ],
   "source": [
    "from omega.symbolic.fol import Context\n",
    "\n",
    "T = len(unique_tiles)\n",
    "\n",
    "variables = {}\n",
    "locations = {}\n",
    "for i in range(N):\n",
    "  for j in range(N):\n",
    "    var = f\"assign_{i}_{j}\"\n",
    "    variables[var] = (0,T-1)\n",
    "    locations[var] = (i,j)\n",
    "\n",
    "context = Context()\n",
    "context.declare(**variables)\n",
    "context.bdd.configure(reordering=False);"
   ]
  },
  {
   "cell_type": "code",
   "execution_count": 7,
   "metadata": {
    "colab": {
     "base_uri": "https://localhost:8080/"
    },
    "id": "sItbush1EaJs",
    "outputId": "a1fae786-e610-47d6-a2ce-b9e9cc684fb8"
   },
   "outputs": [
    {
     "name": "stdout",
     "output_type": "stream",
     "text": [
      "CPU times: user 27 s, sys: 5.78 s, total: 32.8 s\n",
      "Wall time: 33.5 s\n"
     ]
    },
    {
     "data": {
      "text/plain": [
       "199"
      ]
     },
     "execution_count": 7,
     "metadata": {},
     "output_type": "execute_result"
    }
   ],
   "source": [
    "%%time\n",
    "generator = context.true\n",
    "\n",
    "dag_sizes = []\n",
    "dag_sizes.append(generator.dag_size)\n",
    "\n",
    "for i in range(N-1):\n",
    "  for j in range(N):\n",
    "    h_cases = context.false\n",
    "    for u,v in h_adj:\n",
    "      h_cases |= context.add_expr(f\"assign_{i}_{j} = {u} & assign_{i+1}_{j} = {v}\")\n",
    "    generator &= h_cases\n",
    "    dag_sizes.append(generator.dag_size)\n",
    "\n",
    "for i in range(N):\n",
    "  for j in range(N-1):\n",
    "    v_cases = context.false\n",
    "    for u,v in v_adj:\n",
    "      v_cases |= context.add_expr(f\"assign_{i}_{j} = {u} & assign_{i}_{j+1} = {v}\")\n",
    "    generator &= v_cases\n",
    "    dag_sizes.append(generator.dag_size)\n",
    "\n",
    "generator.dag_size"
   ]
  },
  {
   "cell_type": "code",
   "execution_count": null,
   "metadata": {
    "colab": {
     "base_uri": "https://localhost:8080/",
     "height": 430
    },
    "id": "CBFvRsWqVwj3",
    "outputId": "8b853973-9779-4d9a-9ac1-20c55368cf15"
   },
   "outputs": [
    {
     "data": {
      "image/png": "[encoded data removed]",
      "text/plain": [
       "<Figure size 640x480 with 1 Axes>"
      ]
     },
     "metadata": {},
     "output_type": "display_data"
    }
   ],
   "source": [
    "plot(dag_sizes); axhline(dag_sizes[-1],c='r',linestyle='dashed');"
   ]
  },
  {
   "cell_type": "code",
   "execution_count": null,
   "metadata": {
    "colab": {
     "base_uri": "https://localhost:8080/",
     "height": 435
    },
    "id": "dReboHl8Fbdk",
    "outputId": "a82188c5-5bdd-4708-e3a6-accc3a6d7985"
   },
   "outputs": [
    {
     "data": {
      "image/png": "[encoded data removed]",
      "text/plain": [
       "<Figure size 640x480 with 2 Axes>"
      ]
     },
     "metadata": {},
     "output_type": "display_data"
    }
   ],
   "source": [
    "sol = context.pick(generator)\n",
    "img = zeros((N,N),dtype='uint8')\n",
    "for var, val in sol.items():\n",
    "  i,j = locations[var]\n",
    "  img[i,j] = val + 1\n",
    "\n",
    "imshow(img,vmin=0,vmax=2); colorbar();"
   ]
  },
  {
   "cell_type": "code",
   "execution_count": null,
   "metadata": {
    "colab": {
     "base_uri": "https://localhost:8080/"
    },
    "id": "BT9J4DDII9x0",
    "outputId": "269be923-ae54-4665-e639-3b9239544b63"
   },
   "outputs": [
    {
     "name": "stdout",
     "output_type": "stream",
     "text": [
      "CPU times: user 10.8 ms, sys: 0 ns, total: 10.8 ms\n",
      "Wall time: 11.6 ms\n"
     ]
    },
    {
     "data": {
      "text/plain": [
       "199"
      ]
     },
     "execution_count": 11,
     "metadata": {},
     "output_type": "execute_result"
    }
   ],
   "source": [
    "%%time\n",
    "one_cell = context.true\n",
    "h_cases = context.false\n",
    "for u,v in h_adj:\n",
    "  h_cases |= context.add_expr(f\"assign_0_0 = {u} & assign_1_0 = {v}\")\n",
    "v_cases = context.false\n",
    "for u,v in h_adj:\n",
    "  v_cases |= context.add_expr(f\"assign_0_0 = {u} & assign_0_1 = {v}\")\n",
    "\n",
    "h_cases_shifted = context.let({'assign_0_0': 'assign_0_1', 'assign_1_0': 'assign_1_1'}, h_cases)\n",
    "v_cases_shifted = context.let({'assign_0_0': 'assign_1_0', 'assign_0_1': 'assign_1_1'}, v_cases)\n",
    "\n",
    "one_cell &= h_cases\n",
    "one_cell &= v_cases\n",
    "one_cell &= h_cases_shifted\n",
    "one_cell &= v_cases_shifted\n",
    "\n",
    "generator2 = context.true\n",
    "dag_sizes2 = []\n",
    "dag_sizes2.append(generator2.dag_size)\n",
    "\n",
    "for i in range(N-1):\n",
    "  for j in range(N-1):\n",
    "    if i == 0 and j == 0:\n",
    "      generator2 &= one_cell\n",
    "    else:\n",
    "      generator2 &= context.let({'assign_0_0': f'assign_{i}_{j}',\n",
    "                                'assign_0_1': f'assign_{i}_{j+1}',\n",
    "                                'assign_1_0': f'assign_{i+1}_{j}',\n",
    "                                'assign_1_1': f'assign_{i+1}_{j+1}'\n",
    "                                }, one_cell)\n",
    "\n",
    "    dag_sizes2.append(generator2.dag_size)\n",
    "\n",
    "\n",
    "generator2.dag_size"
   ]
  },
  {
   "cell_type": "code",
   "execution_count": null,
   "metadata": {
    "id": "S9XWJxEbMZOF"
   },
   "outputs": [],
   "source": [
    "assert generator == generator2"
   ]
  },
  {
   "cell_type": "code",
   "execution_count": null,
   "metadata": {
    "colab": {
     "base_uri": "https://localhost:8080/",
     "height": 430
    },
    "id": "pdxgc_yPWPfU",
    "outputId": "7cc675eb-87a6-463b-bf1d-499604b7209f"
   },
   "outputs": [
    {
     "data": {
      "image/png": "[encoded data removed]",
      "text/plain": [
       "<Figure size 640x480 with 1 Axes>"
      ]
     },
     "metadata": {},
     "output_type": "display_data"
    }
   ],
   "source": [
    "plot(dag_sizes2); axhline(dag_sizes2[-1],c='r', linestyle='dashed');"
   ]
  },
  {
   "cell_type": "code",
   "execution_count": null,
   "metadata": {
    "colab": {
     "base_uri": "https://localhost:8080/",
     "height": 435
    },
    "id": "aAzC7Kb3Lr6y",
    "outputId": "c82083f6-c46f-43de-9645-9e49defef236"
   },
   "outputs": [
    {
     "data": {
      "image/png": "[encoded data removed]",
      "text/plain": [
       "<Figure size 640x480 with 2 Axes>"
      ]
     },
     "metadata": {},
     "output_type": "display_data"
    }
   ],
   "source": [
    "sol = context.pick(generator2)\n",
    "img = zeros((N,N),dtype='uint8')\n",
    "for var, val in sol.items():\n",
    "  i,j = locations[var]\n",
    "  img[i,j] = val + 1\n",
    "\n",
    "imshow(img,vmin=0,vmax=2); colorbar();"
   ]
  },
  {
   "cell_type": "markdown",
   "metadata": {
    "id": "WH-tUD9bH6a9"
   },
   "source": [
    "Let's explore how `let` works. It is like `compose`, and `compose` is like a larger expression involving `exist` and conjunction with some equivalence constraint."
   ]
  },
  {
   "cell_type": "code",
   "execution_count": null,
   "metadata": {
    "id": "VsOIbzrON6Ca"
   },
   "outputs": [],
   "source": [
    "import dd\n",
    "engine = dd.bdd.BDD()"
   ]
  },
  {
   "cell_type": "code",
   "execution_count": null,
   "metadata": {
    "id": "fmxKHevsOC5f"
   },
   "outputs": [],
   "source": [
    "engine.declare(*list(variables.keys()))"
   ]
  },
  {
   "cell_type": "code",
   "execution_count": null,
   "metadata": {
    "id": "WibFun4rOJ1z"
   },
   "outputs": [],
   "source": [
    "d = engine.add_expr(\"assign_0_0 ^ assign_0_1\")"
   ]
  },
  {
   "cell_type": "code",
   "execution_count": null,
   "metadata": {
    "colab": {
     "base_uri": "https://localhost:8080/"
    },
    "id": "H40wYmHcOnSJ",
    "outputId": "771f1089-ef23-4d32-eba6-add2dbecf3c4"
   },
   "outputs": [
    {
     "data": {
      "text/plain": [
       "[{'assign_0_0': False, 'assign_0_1': True},\n",
       " {'assign_0_0': True, 'assign_0_1': False}]"
      ]
     },
     "execution_count": 18,
     "metadata": {},
     "output_type": "execute_result"
    }
   ],
   "source": [
    "list(engine.pick_iter(d))"
   ]
  },
  {
   "cell_type": "code",
   "execution_count": null,
   "metadata": {
    "colab": {
     "base_uri": "https://localhost:8080/"
    },
    "id": "G1hZk8YpOp-k",
    "outputId": "39b503d2-d04c-4dc2-c595-e54bec8beef7"
   },
   "outputs": [
    {
     "data": {
      "text/plain": [
       "{'assign_0_1', 'assign_5_5'}"
      ]
     },
     "execution_count": 19,
     "metadata": {},
     "output_type": "execute_result"
    }
   ],
   "source": [
    "d2 = engine.compose(d, {'assign_0_0': engine.add_expr('assign_5_5')})\n",
    "engine.support(d2)"
   ]
  },
  {
   "cell_type": "code",
   "execution_count": null,
   "metadata": {
    "colab": {
     "base_uri": "https://localhost:8080/"
    },
    "id": "mru_ew7AP3du",
    "outputId": "b07f829e-7722-4488-f3de-8681ec0bf749"
   },
   "outputs": [
    {
     "data": {
      "text/plain": [
       "[{'assign_0_1': False, 'assign_5_5': True},\n",
       " {'assign_0_1': True, 'assign_5_5': False}]"
      ]
     },
     "execution_count": 20,
     "metadata": {},
     "output_type": "execute_result"
    }
   ],
   "source": [
    "list(engine.pick_iter(d2))"
   ]
  },
  {
   "cell_type": "code",
   "execution_count": null,
   "metadata": {
    "colab": {
     "base_uri": "https://localhost:8080/"
    },
    "id": "2lZiJvn6QAek",
    "outputId": "18f7d785-b504-427c-f7da-03fcc3969390"
   },
   "outputs": [
    {
     "data": {
      "text/plain": [
       "[{'assign_0_1': False, 'assign_5_5': True},\n",
       " {'assign_0_1': True, 'assign_5_5': False}]"
      ]
     },
     "execution_count": 21,
     "metadata": {},
     "output_type": "execute_result"
    }
   ],
   "source": [
    "d3 = engine.exist(['assign_0_0'], engine.apply('&', d, engine.add_expr(f'assign_0_0 <-> assign_5_5')))\n",
    "list(engine.pick_iter(d3))"
   ]
  },
  {
   "cell_type": "markdown",
   "metadata": {
    "id": "wr7MW_GnYVkQ"
   },
   "source": [
    "Practice renaming in a very simple context."
   ]
  },
  {
   "cell_type": "code",
   "execution_count": null,
   "metadata": {
    "id": "2vLqbuMuRuc9"
   },
   "outputs": [],
   "source": [
    "engine2 = dd.BDD()\n",
    "engine2.declare(*'abc')"
   ]
  },
  {
   "cell_type": "code",
   "execution_count": null,
   "metadata": {
    "colab": {
     "base_uri": "https://localhost:8080/"
    },
    "id": "LigfRdKgYmFz",
    "outputId": "ef4509b1-8e62-478d-cefe-f4b50f054243"
   },
   "outputs": [
    {
     "data": {
      "text/plain": [
       "{'a', 'b'}"
      ]
     },
     "execution_count": 23,
     "metadata": {},
     "output_type": "execute_result"
    }
   ],
   "source": [
    "d = engine2.add_expr('a -> b')\n",
    "engine2.support(d)"
   ]
  },
  {
   "cell_type": "code",
   "execution_count": null,
   "metadata": {
    "colab": {
     "base_uri": "https://localhost:8080/"
    },
    "id": "MJEi41MqSIIv",
    "outputId": "f164672f-22e2-499b-d996-fc2b1c909e0e"
   },
   "outputs": [
    {
     "data": {
      "text/plain": [
       "{'a', 'c'}"
      ]
     },
     "execution_count": 24,
     "metadata": {},
     "output_type": "execute_result"
    }
   ],
   "source": [
    "d2 = engine2.let({'b': 'c'}, d)\n",
    "engine2.support(d2)"
   ]
  }
 ],
 "metadata": {
  "colab": {
   "provenance": []
  },
  "kernelspec": {
   "display_name": "omega",
   "language": "python",
   "name": "omega"
  },
  "language_info": {
   "codemirror_mode": {
    "name": "ipython",
    "version": 3
   },
   "file_extension": ".py",
   "mimetype": "text/x-python",
   "name": "python",
   "nbconvert_exporter": "python",
   "pygments_lexer": "ipython3",
   "version": "3.12.0"
  }
 },
 "nbformat": 4,
 "nbformat_minor": 4
}
